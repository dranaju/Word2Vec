{
 "cells": [
  {
   "cell_type": "code",
   "execution_count": 1,
   "metadata": {},
   "outputs": [],
   "source": [
    "import gensim, logging\n",
    "import numpy as  np\n",
    "import glob\n",
    "logging.basicConfig(format='%(asctime)s : %(levelname)s : %(message)s', level=logging.INFO) #configura o gensim"
   ]
  },
  {
   "cell_type": "code",
   "execution_count": null,
   "metadata": {
    "scrolled": true
   },
   "outputs": [],
   "source": [
    "# carrega o dataset pro word2vec\n",
    "files = glob.glob(\"/home/dudu/programming_offline/lstm/1-billion-word-language-modeling-benchmark-r13output/training-monolingual.tokenized.shuffled/*\")\n",
    "\n",
    "print len(files)\n"
   ]
  },
  {
   "cell_type": "code",
   "execution_count": null,
   "metadata": {},
   "outputs": [],
   "source": [
    "#f1 = open(\"/home/dudu/programming_offline/lstm/blogs/blogs/7596.male.26.Internet.Scorpio.xml\")\n",
    "# iterador pra poupar memoria\n",
    "class sentences():\n",
    "    def _init_ (self):\n",
    "        pass\n",
    "        \n",
    "    def __iter__(self):\n",
    "        for path in files:\n",
    "            file_opened = open(path)\n",
    "            \n",
    "            for line in file_opened:\n",
    "                \n",
    "                \n",
    "                splited = line.split(\" \")\n",
    "                \n",
    "                if len(splited)>10:\n",
    "                    sentence = []\n",
    "                    for part in splited:\n",
    "                        \n",
    "                        if len(part)>0:\n",
    "                        \n",
    "                            if part!=\".\\n\" and part != \".\" and part != \"?\" and part != \"!\" and part != \"...\" and part != \" .\":\n",
    "                                if part != \"\\\"\" and part != \",\":\n",
    "                                    sentence.append(part.lower())\n",
    "                            \n",
    "                            else:\n",
    "                                yield sentence\n",
    "                                sentence = []  \n"
   ]
  },
  {
   "cell_type": "code",
   "execution_count": null,
   "metadata": {
    "scrolled": true
   },
   "outputs": [],
   "source": [
    "#model = gensim.models.Word2Vec(documents, size=150, window=10, min_count=2, workers=10)\n",
    "model = gensim.models.Word2Vec(sentences(),size=300,min_count=10, workers=10,window = 10)\n",
    "\n",
    "#model = Word2Vec(sentences(), size=200)"
   ]
  },
  {
   "cell_type": "code",
   "execution_count": null,
   "metadata": {},
   "outputs": [],
   "source": [
    "model.accuracy(\"teste.txt\")"
   ]
  },
  {
   "cell_type": "code",
   "execution_count": 2,
   "metadata": {},
   "outputs": [
    {
     "name": "stderr",
     "output_type": "stream",
     "text": [
      "2018-06-28 09:23:56,267 : INFO : loading Word2Vec object from oi\n",
      "2018-06-28 09:23:57,755 : INFO : loading vocabulary recursively from oi.vocabulary.* with mmap=None\n",
      "2018-06-28 09:23:57,757 : INFO : loading wv recursively from oi.wv.* with mmap=None\n",
      "2018-06-28 09:23:57,758 : INFO : loading vectors from oi.wv.vectors.npy with mmap=None\n",
      "2018-06-28 09:23:58,699 : INFO : setting ignored attribute vectors_norm to None\n",
      "2018-06-28 09:23:58,700 : INFO : loading trainables recursively from oi.trainables.* with mmap=None\n",
      "2018-06-28 09:23:58,702 : INFO : loading syn1neg from oi.trainables.syn1neg.npy with mmap=None\n",
      "2018-06-28 09:23:59,655 : INFO : setting ignored attribute cum_table to None\n",
      "2018-06-28 09:23:59,656 : INFO : loaded oi\n"
     ]
    }
   ],
   "source": [
    "model = gensim.models.Word2Vec.load('oi')\n",
    "\n"
   ]
  },
  {
   "cell_type": "code",
   "execution_count": 3,
   "metadata": {},
   "outputs": [],
   "source": [
    "class sentencesIMDB(object):\n",
    "    def __init__ (self,paths):\n",
    "        self.paths = paths\n",
    "        \n",
    "        \n",
    "    def __iter__(self):\n",
    "        \n",
    "        \n",
    "        for path in self.paths:\n",
    "          \n",
    "          file = open(path)\n",
    "          \n",
    "          for line in file:     \n",
    "           \n",
    "            splited = line.split(\" \")\n",
    "\n",
    "            if len(splited)>10:\n",
    "                sentence = []\n",
    "                for part in splited:\n",
    "\n",
    "                    if len(part)>0:\n",
    "                        if part != \"don't\":\n",
    "\n",
    "                            if part[-1]!=\".\\n\" and part[-1] != \".\" and part[-1] != \"?\" and part[-1] != \"!\" and part[-1] != \" .\" :\n",
    "                                if part[-3:] != \"...\" and part[-3:] != \"<br\":\n",
    "                                    if part[-4:]  !='/><b':\n",
    "                                        if part[-2:] != '/>':\n",
    "                                            if part[-1] != \"\\\"\"  and part[-1] != \",\":\n",
    "                                                if part[:2] != \"/>\":\n",
    "                                                    sentence.append(part)\n",
    "                                                else: sentence.append(part[2:])\n",
    "                                            else: \n",
    "                                                sentence.append(part[:-1])\n",
    "                                        else: \n",
    "                                            sentence.append(part[:-2])\n",
    "                                            yield sentence\n",
    "                                            sentence = []  \n",
    "                                    else :\n",
    "                                        sentence.append(part[:-4])\n",
    "                                        yield sentence\n",
    "                                        sentence = []  \n",
    "                                else:\n",
    "                                    sentence.append(part[:-3])\n",
    "                                    yield sentence\n",
    "                                    sentence = []  \n",
    "                            else:                            \n",
    "                                sentence.append(part[:-1])\n",
    "                                yield sentence\n",
    "                                sentence = []  \n"
   ]
  },
  {
   "cell_type": "code",
   "execution_count": 4,
   "metadata": {},
   "outputs": [],
   "source": [
    "positives = glob.glob(\"aclImdb/train/pos/*\")+glob.glob(\"aclImdb/test/pos/*\")\n",
    "negatives = glob.glob(\"aclImdb/train/neg/*\")+glob.glob(\"aclImdb/test/neg/*\")"
   ]
  },
  {
   "cell_type": "code",
   "execution_count": 8,
   "metadata": {},
   "outputs": [],
   "source": [
    "files = None\n",
    "vec_pos = []\n",
    "vec_neg = []\n",
    "vec_pos_1 = None\n",
    "vec_neg_1 = None\n",
    "vec_pos_1 = [sentence for sentence in sentencesIMDB(positives)]\n",
    "vec_neg_1 = [sentence for sentence in sentencesIMDB(negatives)]\n"
   ]
  },
  {
   "cell_type": "code",
   "execution_count": 9,
   "metadata": {},
   "outputs": [
    {
     "name": "stdout",
     "output_type": "stream",
     "text": [
      "19764 cutted\n",
      "71245\n"
     ]
    }
   ],
   "source": [
    "minimo = min(len(vec_pos_1), len(vec_neg_1))\n",
    "print str((max(len(vec_pos_1), len(vec_neg_1))-min(len(vec_pos_1), len(vec_neg_1))))+\" cutted\"\n",
    "vec_pos_1 = vec_pos_1[:minimo]\n",
    "vec_neg_1 = vec_neg_1[:minimo]\n",
    "\n",
    "qnt_treino = int(minimo*0.2)\n",
    "vec_pos_train = vec_pos_1[:qnt_treino]\n",
    "vec_neg_train = vec_neg_1[:qnt_treino]\n",
    "\n",
    "print len(vec_neg_train)"
   ]
  },
  {
   "cell_type": "code",
   "execution_count": null,
   "metadata": {},
   "outputs": [],
   "source": [
    "lenght = []\n",
    "mais = 0\n",
    "for x in vec_neg_1:\n",
    "    lenght.append(len(x))\n",
    "    \n",
    "print mais\n",
    "%matplotlib inline\n",
    "import matplotlib.pyplot as plt\n",
    "\n",
    "n, bins, patches = plt.hist(lenght, 200, normed=1, facecolor='green', alpha=0.75,range=(0,120))\n",
    "\n",
    "#plt.hist(lenght)\n",
    "#plt.plot(lenght)\n",
    "plt.show()"
   ]
  },
  {
   "cell_type": "code",
   "execution_count": 9,
   "metadata": {},
   "outputs": [
    {
     "name": "stderr",
     "output_type": "stream",
     "text": [
      "/usr/local/lib/python2.7/dist-packages/ipykernel_launcher.py:17: DeprecationWarning: Call to deprecated `__getitem__` (Method will be removed in 4.0.0, use self.wv.__getitem__() instead).\n"
     ]
    },
    {
     "name": "stdout",
     "output_type": "stream",
     "text": [
      "foi a primeira\n"
     ]
    },
    {
     "name": "stderr",
     "output_type": "stream",
     "text": [
      "/usr/local/lib/python2.7/dist-packages/ipykernel_launcher.py:34: DeprecationWarning: Call to deprecated `__getitem__` (Method will be removed in 4.0.0, use self.wv.__getitem__() instead).\n"
     ]
    },
    {
     "name": "stdout",
     "output_type": "stream",
     "text": [
      "foi a segunda\n"
     ]
    }
   ],
   "source": [
    "#para treino\n",
    "\n",
    "vec_pos = []\n",
    "vec_neg = []\n",
    "\n",
    "max_len_sentence = 80\n",
    "min_len_sentence = 1\n",
    "\n",
    "for sentence in vec_pos_train:\n",
    "    good = True\n",
    "    for palavra in sentence:\n",
    "        if len(palavra)>14:\n",
    "            good = False\n",
    "            break\n",
    "    if len(sentence)>max_len_sentence or len(sentence)<min_len_sentence+1: good = False\n",
    "    if good: \n",
    "        try: \n",
    "            sequencia = sequence.pad_sequences(model[sentence].reshape(300,-1),maxlen=80,value = 0.0,dtype = \"float32\",truncating='post',padding='post').T\n",
    "            vec_pos.append(sequencia)\n",
    "        except: pass\n",
    "\n",
    "print \"foi a primeira\"\n",
    "vec_pos_train = None\n",
    "\n",
    "for sentence in vec_neg_train:\n",
    "    good = True\n",
    "    for palavra in sentence:\n",
    "        if len(palavra)>14:\n",
    "            good = False\n",
    "            break\n",
    "    if len(sentence)>max_len_sentence or len(sentence)<min_len_sentence+1: good = False\n",
    "    if good: \n",
    "        \n",
    "        try: \n",
    "            sequencia = sequence.pad_sequences(model[sentence].reshape(300,-1),maxlen=80,value = 0.0,dtype = \"float32\",truncating='post',padding='post').T\n",
    "            vec_neg.append(sequencia)\n",
    "        except: pass\n",
    "print \"foi a segunda\"\n",
    "vec_neg_1 = None\n"
   ]
  },
  {
   "cell_type": "code",
   "execution_count": 12,
   "metadata": {},
   "outputs": [],
   "source": [
    "from keras.preprocessing import sequence\n",
    "from keras.preprocessing import sequence\n",
    "from keras.models import Sequential\n",
    "from keras.layers import Dense, Embedding\n",
    "from keras.layers import LSTM\n",
    "from keras.datasets import imdb"
   ]
  },
  {
   "cell_type": "code",
   "execution_count": 20,
   "metadata": {},
   "outputs": [
    {
     "name": "stdout",
     "output_type": "stream",
     "text": [
      "_________________________________________________________________\n",
      "Layer (type)                 Output Shape              Param #   \n",
      "=================================================================\n",
      "lstm_7 (LSTM)                (None, 300)               721200    \n",
      "_________________________________________________________________\n",
      "dense_2 (Dense)              (None, 1)                 301       \n",
      "=================================================================\n",
      "Total params: 721,501\n",
      "Trainable params: 721,501\n",
      "Non-trainable params: 0\n",
      "_________________________________________________________________\n"
     ]
    }
   ],
   "source": [
    "modelk = Sequential()\n",
    "modelk.add(Embedding())\n",
    "modelk.add(LSTM(300, dropout=0.2, recurrent_dropout=0.2,input_shape=(10,300)))\n",
    "modelk.add(Dense(1, activation='sigmoid'))\n",
    "\n",
    "modelk.summary()"
   ]
  },
  {
   "cell_type": "code",
   "execution_count": null,
   "metadata": {},
   "outputs": [],
   "source": [
    "# try using different optimizers and different optimizer configs\n",
    "modelk.compile(loss='binary_crossentropy',\n",
    "              optimizer='adam',\n",
    "              metrics=['accuracy'])\n",
    "\n",
    "print('Train...')\n",
    "modelk.fit(x_train, y_train,\n",
    "          batch_size=batch_size,\n",
    "          epochs=15,\n",
    "          validation_data=(x_test, y_test))\n",
    "score, acc = modelk.evaluate(x_test, y_test,\n",
    "                            batch_size=batch_size)\n",
    "print('Test score:', score)\n",
    "print('Test accuracy:', acc)"
   ]
  },
  {
   "cell_type": "code",
   "execution_count": 7,
   "metadata": {},
   "outputs": [
    {
     "name": "stderr",
     "output_type": "stream",
     "text": [
      "/usr/local/lib/python2.7/dist-packages/ipykernel_launcher.py:1: DeprecationWarning: Call to deprecated `most_similar` (Method will be removed in 4.0.0, use self.wv.most_similar() instead).\n",
      "  \"\"\"Entry point for launching an IPython kernel.\n",
      "2018-06-28 09:16:18,424 : INFO : precomputing L2-norms of word weight vectors\n"
     ]
    },
    {
     "data": {
      "text/plain": [
       "[('queen', 0.7458210587501526),\n",
       " ('monarch', 0.6986779570579529),\n",
       " ('princess', 0.636103630065918),\n",
       " ('prince', 0.6203572154045105),\n",
       " ('sultan', 0.5757666826248169),\n",
       " ('emperor', 0.5661517381668091),\n",
       " ('throne', 0.5515412092208862),\n",
       " ('kings', 0.5494276285171509),\n",
       " ('monarchy', 0.5455043911933899),\n",
       " ('empress', 0.53876131772995)]"
      ]
     },
     "execution_count": 7,
     "metadata": {},
     "output_type": "execute_result"
    }
   ],
   "source": [
    "model.most_similar(positive=[\"king\",\"woman\"],negative=[\"man\"])"
   ]
  }
 ],
 "metadata": {
  "kernelspec": {
   "display_name": "Python 2",
   "language": "python",
   "name": "python2"
  },
  "language_info": {
   "codemirror_mode": {
    "name": "ipython",
    "version": 2
   },
   "file_extension": ".py",
   "mimetype": "text/x-python",
   "name": "python",
   "nbconvert_exporter": "python",
   "pygments_lexer": "ipython2",
   "version": "2.7.12"
  }
 },
 "nbformat": 4,
 "nbformat_minor": 2
}
